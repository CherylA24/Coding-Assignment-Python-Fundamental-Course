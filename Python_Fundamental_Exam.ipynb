{
  "nbformat": 4,
  "nbformat_minor": 0,
  "metadata": {
    "colab": {
      "provenance": []
    },
    "kernelspec": {
      "name": "python3",
      "display_name": "Python 3"
    },
    "language_info": {
      "name": "python"
    }
  },
  "cells": [
    {
      "cell_type": "markdown",
      "source": [
        "## Guess the Number"
      ],
      "metadata": {
        "id": "MDUrt1dtsaeU"
      }
    },
    {
      "cell_type": "code",
      "execution_count": 1,
      "metadata": {
        "colab": {
          "base_uri": "https://localhost:8080/"
        },
        "id": "N83FHYDZsLh9",
        "outputId": "d192def9-e8c2-4a45-a308-cc12bbfb1681"
      },
      "outputs": [
        {
          "output_type": "stream",
          "name": "stdout",
          "text": [
            "Guess the number (between 1 and 100): 5\n",
            "Too low. Try again.\n",
            "Guess the number (between 1 and 100): 30\n",
            "Too high. Try again.\n",
            "Guess the number (between 1 and 100): 29\n",
            "Too high. Try again.\n",
            "Guess the number (between 1 and 100): 25\n",
            "Too high. Try again.\n",
            "Guess the number (between 1 and 100): 20\n",
            "Too high. Try again.\n",
            "Guess the number (between 1 and 100): 15\n",
            "Congratulations! You guessed the correct number: 15\n"
          ]
        }
      ],
      "source": [
        "import random\n",
        "\n",
        "def guess_number():\n",
        "    # Generate a random number between 1 and 100\n",
        "    target_number = random.randint(1, 100)\n",
        "\n",
        "    while True:\n",
        "        # Ask the user to guess the number\n",
        "        user_guess = int(input(\"Guess the number (between 1 and 100): \"))\n",
        "\n",
        "        # Check if the user's guess is correct\n",
        "        if user_guess == target_number:\n",
        "            print(f\"Congratulations! You guessed the correct number: {target_number}\")\n",
        "            break\n",
        "        elif user_guess < target_number:\n",
        "            print(\"Too low. Try again.\")\n",
        "        else:\n",
        "            print(\"Too high. Try again.\")\n",
        "\n",
        "if __name__ == \"__main__\":\n",
        "    guess_number()"
      ]
    },
    {
      "cell_type": "markdown",
      "source": [
        "## Data Analysis and Visualization"
      ],
      "metadata": {
        "id": "ZhK6fSyDsqRb"
      }
    },
    {
      "cell_type": "code",
      "source": [
        "import pandas as pd\n",
        "import matplotlib.pyplot as plt\n",
        "\n",
        "def load_data(file_path):\n",
        "    try:\n",
        "        # Load data from CSV file into a DataFrame\n",
        "        df = pd.read_csv(file_path)\n",
        "        return df\n",
        "    except FileNotFoundError:\n",
        "        print(\"Error: File not found.\")\n",
        "        return None\n",
        "\n",
        "def data_analysis(df):\n",
        "    if df is not None:\n",
        "        # Display available columns for analysis\n",
        "        print(\"Available columns:\")\n",
        "        print(df.columns)\n",
        "\n",
        "        # Prompt user to select columns for analysis\n",
        "        columns_to_analyze = input(\"Enter the columns you want to analyze (separated by commas): \").split(\",\")\n",
        "        columns_to_analyze = [col.strip() for col in columns_to_analyze]\n",
        "\n",
        "        # Perform basic data analysis for selected columns\n",
        "        selected_data = df[columns_to_analyze]\n",
        "        print(\"\\nData analysis:\")\n",
        "        print(selected_data.describe())\n",
        "\n",
        "        # Create visualizations for selected columns\n",
        "        for column in columns_to_analyze:\n",
        "            if df[column].dtype in [int, float]:\n",
        "                # Histogram for numeric columns\n",
        "                plt.figure(figsize=(8, 6))\n",
        "                plt.hist(df[column], bins=20, alpha=0.75)\n",
        "                plt.xlabel(column)\n",
        "                plt.ylabel(\"Frequency\")\n",
        "                plt.title(f\"Histogram of {column}\")\n",
        "                plt.show()\n",
        "            else:\n",
        "                # Bar plot for categorical columns\n",
        "                plt.figure(figsize=(8, 6))\n",
        "                df[column].value_counts().plot(kind=\"bar\")\n",
        "                plt.xlabel(column)\n",
        "                plt.ylabel(\"Frequency\")\n",
        "                plt.title(f\"Bar Plot of {column}\")\n",
        "                plt.show()\n",
        "    else:\n",
        "        print(\"No data to analyze.\")\n",
        "\n",
        "if __name__ == \"__main__\":\n",
        "    file_path = input(\"Enter the path to the CSV file: \")\n",
        "    data_frame = load_data(file_path)\n",
        "    data_analysis(data_frame)"
      ],
      "metadata": {
        "id": "F2e7G4GVsqDb"
      },
      "execution_count": null,
      "outputs": []
    }
  ]
}